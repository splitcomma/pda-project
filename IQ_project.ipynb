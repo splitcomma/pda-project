{
 "cells": [
  {
   "cell_type": "markdown",
   "id": "14c8b2d8",
   "metadata": {},
   "source": [
    "# Programming for Data Analysis\n",
    "## Project 1 \n",
    "## Title: IQ Test \n",
    "### Author: Andras Csullog"
   ]
  },
  {
   "cell_type": "markdown",
   "id": "80e5c698",
   "metadata": {},
   "source": [
    "![IQ](https://www.arealme.com/newimg/tn_@2x_iq-2019.png)"
   ]
  },
  {
   "cell_type": "code",
   "execution_count": 1,
   "id": "624786ba",
   "metadata": {},
   "outputs": [],
   "source": [
    "%matplotlib inline"
   ]
  },
  {
   "cell_type": "code",
   "execution_count": 2,
   "id": "ddfd84eb",
   "metadata": {},
   "outputs": [],
   "source": [
    "import numpy as np\n",
    "import random\n",
    "import matplotlib.pyplot as plt"
   ]
  },
  {
   "cell_type": "code",
   "execution_count": 3,
   "id": "a13fa320",
   "metadata": {},
   "outputs": [],
   "source": [
    "iq = np.random.normal(100 , 15 , 1000)\n",
    "parentsiq =  random.choices(iq, weights=iq, k=1000)"
   ]
  },
  {
   "cell_type": "code",
   "execution_count": 4,
   "id": "5e337ad4",
   "metadata": {},
   "outputs": [
    {
     "data": {
      "image/png": "[encoded data removed]",
      "text/plain": [
       "<Figure size 432x288 with 1 Axes>"
      ]
     },
     "metadata": {
      "needs_background": "light"
     },
     "output_type": "display_data"
    }
   ],
   "source": [
    "plt.hist(iq)\n",
    "plt.hist(parentsiq)\n",
    "plt.show()"
   ]
  },
  {
   "cell_type": "code",
   "execution_count": 5,
   "id": "d2cd3b9c",
   "metadata": {},
   "outputs": [],
   "source": [
    "gender = [\"male\", \"female\"]"
   ]
  },
  {
   "cell_type": "code",
   "execution_count": 6,
   "id": "89c697ad",
   "metadata": {
    "scrolled": true
   },
   "outputs": [],
   "source": [
    "gen = random.choices(gender, weights = [500, 500], k = 1000)"
   ]
  },
  {
   "cell_type": "code",
   "execution_count": 7,
   "id": "7acf8460",
   "metadata": {},
   "outputs": [],
   "source": [
    "doby = np.random.randint(1900, 2000, 1000)"
   ]
  },
  {
   "cell_type": "code",
   "execution_count": 8,
   "id": "87577ac4",
   "metadata": {
    "scrolled": true
   },
   "outputs": [
    {
     "name": "stdout",
     "output_type": "stream",
     "text": [
      "       IQ_Score  Parents' IQ_Score  Gender  DOB_Year\n",
      "0    109.154376         108.686062  female      1996\n",
      "1     94.556021         101.641712    male      1979\n",
      "2     85.042108         128.792917    male      1976\n",
      "3     97.417708         108.452286  female      1997\n",
      "4     89.407536         108.479365  female      1978\n",
      "..          ...                ...     ...       ...\n",
      "995  107.073852         100.002681    male      1971\n",
      "996  103.800905          95.129316  female      1914\n",
      "997  136.085695         100.763422    male      1959\n",
      "998  111.304141          85.648338  female      1999\n",
      "999  111.961466         116.791198    male      1906\n",
      "\n",
      "[1000 rows x 4 columns]\n"
     ]
    }
   ],
   "source": [
    "import pandas as pd\n",
    "df = pd.DataFrame({\"IQ_Score\" : iq, \"Parents' IQ_Score\" : parentsiq, \"Gender\" : gen,\"DOB_Year\" : doby})\n",
    "print(df)"
   ]
  },
  {
   "cell_type": "code",
   "execution_count": null,
   "id": "88f237d4",
   "metadata": {},
   "outputs": [],
   "source": []
  },
  {
   "cell_type": "code",
   "execution_count": null,
   "id": "28d62a1d",
   "metadata": {},
   "outputs": [],
   "source": []
  }
 ],
 "metadata": {
  "kernelspec": {
   "display_name": "Python 3 (ipykernel)",
   "language": "python",
   "name": "python3"
  },
  "language_info": {
   "codemirror_mode": {
    "name": "ipython",
    "version": 3
   },
   "file_extension": ".py",
   "mimetype": "text/x-python",
   "name": "python",
   "nbconvert_exporter": "python",
   "pygments_lexer": "ipython3",
   "version": "3.9.7"
  }
 },
 "nbformat": 4,
 "nbformat_minor": 5
}
